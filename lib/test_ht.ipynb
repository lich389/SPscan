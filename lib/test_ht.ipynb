{
 "cells": [
  {
   "cell_type": "code",
   "execution_count": 1,
   "metadata": {},
   "outputs": [],
   "source": [
    "\n",
    "import Higgs.bounds as HB\n",
    "\n",
    "import Higgs.tools.Input as hinput"
   ]
  },
  {
   "cell_type": "code",
   "execution_count": 2,
   "metadata": {},
   "outputs": [
    {
     "name": "stdout",
     "output_type": "stream",
     "text": [
      "[2025-01-04 21:51:47.852] [HiggsPredictions] [warning] Di-higgs non resonant ggF production cross section is not computed. No further warning will be printed.\n",
      "[2025-01-04 21:51:47.852] [HiggsPredictions] [warning] Di-higgs non resonant VBF production cross section is not computed. No further warning will be printed.\n"
     ]
    },
    {
     "data": {
      "text/plain": [
       "152.55277324876846"
      ]
     },
     "execution_count": 2,
     "metadata": {},
     "output_type": "execute_result"
    }
   ],
   "source": [
    "\n",
    "import Higgs.predictions as HP\n",
    "import Higgs.signals as HS\n",
    "\n",
    "predsm = HP.Predictions()\n",
    "hsm = predsm.addParticle(HP.BsmParticle(\"h\", charge=\"neutral\", cp=\"even\"))\n",
    "hsm.setMass(125.09)\n",
    "HP.effectiveCouplingInput(hsm, HP.smLikeEffCouplings, HP.ReferenceModel.SMHiggsInterp)\n",
    "\n",
    "\n",
    "signals = HS.Signals('/home/licheng/Code/higgstools/htdataset/hsdataset')\n",
    "signals(predsm)"
   ]
  },
  {
   "cell_type": "code",
   "execution_count": 8,
   "metadata": {},
   "outputs": [
    {
     "data": {
      "text/plain": [
       "152.56033806331513"
      ]
     },
     "execution_count": 8,
     "metadata": {},
     "output_type": "execute_result"
    }
   ],
   "source": [
    "spc = '/home/licheng/Code/myscripts/sphenoscan/test/0/SPheno.spc.GNMSSM.4_1.txt'\n",
    "neuID = [25,35]\n",
    "charID = []\n",
    "spchinp = hinput.readHB5SLHA(spc,neuID,charID)\n",
    "input = hinput.predictionsFromDict(spchinp,list(map(str, neuID)),list(map(str, charID)),{},useExplicitBr={'25':False})#, referenceModels=HP.SMHiggsInterp )\n",
    "signals(input)"
   ]
  },
  {
   "cell_type": "code",
   "execution_count": 6,
   "metadata": {},
   "outputs": [
    {
     "data": {
      "text/plain": [
       "170"
      ]
     },
     "execution_count": 6,
     "metadata": {},
     "output_type": "execute_result"
    }
   ],
   "source": [
    "152+18"
   ]
  },
  {
   "cell_type": "code",
   "execution_count": null,
   "metadata": {},
   "outputs": [],
   "source": []
  }
 ],
 "metadata": {
  "kernelspec": {
   "display_name": "base",
   "language": "python",
   "name": "python3"
  },
  "language_info": {
   "codemirror_mode": {
    "name": "ipython",
    "version": 3
   },
   "file_extension": ".py",
   "mimetype": "text/x-python",
   "name": "python",
   "nbconvert_exporter": "python",
   "pygments_lexer": "ipython3",
   "version": "3.11.4"
  }
 },
 "nbformat": 4,
 "nbformat_minor": 2
}
